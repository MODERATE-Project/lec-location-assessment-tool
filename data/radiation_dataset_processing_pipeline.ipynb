{
 "cells": [
  {
   "cell_type": "markdown",
   "id": "8a2959d2",
   "metadata": {},
   "source": [
    "# Data processing for census sections, incomes, population and buildings"
   ]
  },
  {
   "cell_type": "markdown",
   "id": "3671b2e0",
   "metadata": {},
   "source": [
    "In the below data processing pipeline, the following datasets are used and generated:\n",
    "1. **seccionado.geojson**: Data about census sections, downloaded from INE\n",
    "2. **seccionado_procesado_EPSG_25830.geojson**: Subset of the previous dataset, containing only three fields ('CUSEC', 'area_m2', 'geometry')\n",
    "3. **renta.csv**: Income dataset downloaded from INE\n",
    "4. **renta_procesado_2020.csv**: Income by census section\n",
    "5. **poblacion.csv**: Population dataset downloaded from INE\n",
    "6. **poblacion_procesado_2020.csv**: Population by section\n",
    "7. **renta_poblacion_secciones_2020.csv**: Income and Population for each section\n",
    "8. **edificios_adecuados_EPSG_25830.geojson**: Buildings from Crevillent with Solar radiation data\n",
    "9. **edificios_secciones_crevillente**: Sections, buildings and radiation data. This is the final dataset for querying in the backend.\n",
    "\n",
    "**Note**: For building a final dataset for other region, solar radiation data for that area is necessary.\n"
   ]
  },
  {
   "cell_type": "markdown",
   "id": "c29189b7",
   "metadata": {},
   "source": [
    "## Census sections\n",
    "Data from 2023. Downloaded from: https://www.ine.es/ss/Satellite?L=es_ES&c=Page&cid=1259952026632&p=1259952026632&pagename=ProductosYServicios%2FPYSLayout"
   ]
  },
  {
   "cell_type": "code",
   "execution_count": 10,
   "id": "076c3082",
   "metadata": {},
   "outputs": [],
   "source": [
    "import dask_geopandas as dask_gpd\n",
    "dgdf = dask_gpd.read_file('seccionado.geojson', npartitions=4) #EPSG:25830 (m2)"
   ]
  },
  {
   "cell_type": "code",
   "execution_count": 11,
   "id": "bb69c983",
   "metadata": {},
   "outputs": [],
   "source": [
    "dgdf['area_m2'] = dgdf.area\n",
    "dgdf = dgdf[['CUSEC', 'area_m2', 'geometry']]"
   ]
  },
  {
   "cell_type": "code",
   "execution_count": 12,
   "id": "b17bc4a6",
   "metadata": {},
   "outputs": [],
   "source": [
    "computed_gdf = dgdf.compute()"
   ]
  },
  {
   "cell_type": "code",
   "execution_count": 13,
   "id": "defd7db4",
   "metadata": {},
   "outputs": [],
   "source": [
    "computed_gdf.to_file('seccionado_procesado_EPSG_25830.geojson', driver='GeoJSON')"
   ]
  },
  {
   "cell_type": "markdown",
   "id": "a6a273bb",
   "metadata": {},
   "source": [
    "## Income by census sections\n",
    "Data downloaded from: https://www.ine.es/dynt3/inebase/index.htm?padre=7132."
   ]
  },
  {
   "cell_type": "code",
   "execution_count": 15,
   "id": "e1979cb1",
   "metadata": {},
   "outputs": [],
   "source": [
    "import dask.dataframe as dd\n",
    "dtype_dict = {\n",
    "    'Distritos': 'object',\n",
    "    'Secciones': 'object',\n",
    "    'Total': 'object'\n",
    "}"
   ]
  },
  {
   "cell_type": "code",
   "execution_count": 16,
   "id": "bc6a7976",
   "metadata": {},
   "outputs": [],
   "source": [
    "df = dd.read_csv('renta.csv', dtype=dtype_dict, sep=';')"
   ]
  },
  {
   "cell_type": "code",
   "execution_count": 17,
   "id": "b6d22923",
   "metadata": {},
   "outputs": [],
   "source": [
    "df = df[['Secciones', 'Indicadores de renta media', 'Periodo', 'Total']]"
   ]
  },
  {
   "cell_type": "code",
   "execution_count": 18,
   "id": "fd4ba280",
   "metadata": {},
   "outputs": [],
   "source": [
    "df = df[df['Indicadores de renta media'] == 'Renta neta media por hogar']"
   ]
  },
  {
   "cell_type": "code",
   "execution_count": 19,
   "id": "b6e0dcab",
   "metadata": {},
   "outputs": [],
   "source": [
    "df = df[df['Periodo'] == 2020]"
   ]
  },
  {
   "cell_type": "code",
   "execution_count": 20,
   "id": "45d636d9",
   "metadata": {},
   "outputs": [],
   "source": [
    "df = df[['Secciones', 'Periodo', 'Total']]"
   ]
  },
  {
   "cell_type": "code",
   "execution_count": 21,
   "id": "c01138c3",
   "metadata": {},
   "outputs": [],
   "source": [
    "df = df.dropna()"
   ]
  },
  {
   "cell_type": "code",
   "execution_count": 22,
   "id": "60506135",
   "metadata": {},
   "outputs": [],
   "source": [
    "df = df[['Secciones', 'Total']] # Periodo = 2020"
   ]
  },
  {
   "cell_type": "code",
   "execution_count": 23,
   "id": "5fe620e0",
   "metadata": {},
   "outputs": [],
   "source": [
    "df['Secciones'] = df['Secciones'].str.split().str[0]"
   ]
  },
  {
   "cell_type": "code",
   "execution_count": 24,
   "id": "9832746a",
   "metadata": {},
   "outputs": [
    {
     "data": {
      "text/plain": [
       "['C:\\\\Users\\\\omar.alvarez\\\\Downloads\\\\data\\\\seccionado_2023\\\\Seccionado2023\\\\Seccionado2023\\\\España_Seccionado2023_ETRS89H30\\\\renta_procesado_2020_parts.csv\\\\0.part',\n",
       " 'C:\\\\Users\\\\omar.alvarez\\\\Downloads\\\\data\\\\seccionado_2023\\\\Seccionado2023\\\\Seccionado2023\\\\España_Seccionado2023_ETRS89H30\\\\renta_procesado_2020_parts.csv\\\\1.part',\n",
       " 'C:\\\\Users\\\\omar.alvarez\\\\Downloads\\\\data\\\\seccionado_2023\\\\Seccionado2023\\\\Seccionado2023\\\\España_Seccionado2023_ETRS89H30\\\\renta_procesado_2020_parts.csv\\\\2.part']"
      ]
     },
     "execution_count": 24,
     "metadata": {},
     "output_type": "execute_result"
    }
   ],
   "source": [
    "df.to_csv('renta_procesado_2020_parts.csv', index=False)"
   ]
  },
  {
   "cell_type": "code",
   "execution_count": 25,
   "id": "d4fc3049",
   "metadata": {},
   "outputs": [],
   "source": [
    "filenames = \"renta_procesado_2020_parts.csv/*.part\"\n",
    "dtype_dict = {\n",
    "    'Secciones': 'object',\n",
    "    'Total': 'object'\n",
    "}\n",
    "ddf = dd.read_csv(filenames, dtype=dtype_dict, sep=',')"
   ]
  },
  {
   "cell_type": "code",
   "execution_count": 26,
   "id": "b79c21f4",
   "metadata": {},
   "outputs": [],
   "source": [
    "ddf.compute().to_csv('renta_procesado_2020.csv', index=False)"
   ]
  },
  {
   "cell_type": "markdown",
   "id": "514eb206",
   "metadata": {},
   "source": [
    "## Population"
   ]
  },
  {
   "cell_type": "markdown",
   "id": "0a222609",
   "metadata": {},
   "source": [
    "Data downloaded from: https://www.ine.es/jaxiT3/Tabla.htm?t=30868&L=0"
   ]
  },
  {
   "cell_type": "code",
   "execution_count": 27,
   "id": "aa525ef1",
   "metadata": {},
   "outputs": [],
   "source": [
    "import dask.dataframe as dd\n",
    "dtype_dict = {\n",
    "    'Secciones': 'object',\n",
    "    'Indicadores demográficos': 'object'\n",
    "\n",
    "}\n",
    "df = dd.read_csv('poblacion.csv', dtype=dtype_dict, sep=';')"
   ]
  },
  {
   "cell_type": "code",
   "execution_count": 28,
   "id": "1e842a1f",
   "metadata": {},
   "outputs": [],
   "source": [
    "df = df[df['Periodo'] == 2020]"
   ]
  },
  {
   "cell_type": "code",
   "execution_count": 29,
   "id": "d8cbea7f",
   "metadata": {},
   "outputs": [],
   "source": [
    "df = df[['Secciones', 'Indicadores demográficos', 'Total']]"
   ]
  },
  {
   "cell_type": "code",
   "execution_count": 30,
   "id": "4ae173ab",
   "metadata": {},
   "outputs": [],
   "source": [
    "df['Secciones'] = df['Secciones'].str.split().str[0]"
   ]
  },
  {
   "cell_type": "code",
   "execution_count": 31,
   "id": "5753ae84",
   "metadata": {},
   "outputs": [],
   "source": [
    "df['Indicadores demográficos'] = df['Indicadores demográficos'].astype('category')"
   ]
  },
  {
   "cell_type": "code",
   "execution_count": 32,
   "id": "c758d98b",
   "metadata": {},
   "outputs": [],
   "source": [
    "df['Indicadores demográficos'] = df['Indicadores demográficos'].cat.as_known()"
   ]
  },
  {
   "cell_type": "code",
   "execution_count": 33,
   "id": "bb2380bd",
   "metadata": {},
   "outputs": [],
   "source": [
    "df = df.dropna()"
   ]
  },
  {
   "cell_type": "code",
   "execution_count": 34,
   "id": "e1774dd7",
   "metadata": {},
   "outputs": [],
   "source": [
    "df_edad_media = df[df['Indicadores demográficos'] == 'Edad media de la población']\n",
    "df_poblacion = df[df['Indicadores demográficos'] == 'Población']\n",
    "df_porcentaje_unipersonales = df[df['Indicadores demográficos'] == 'Porcentaje de hogares unipersonales']\n",
    "df_porcentaje_mayor_65 = df[df['Indicadores demográficos'] == 'Porcentaje de población de 65 y más años']\n",
    "df_porcentaje_menor_18 = df[df['Indicadores demográficos'] == 'Porcentaje de población menor de 18 años']\n",
    "df_porcentaje_poblacion = df[df['Indicadores demográficos'] == 'Porcentaje de población española']\n",
    "df_tamaño_medio = df[df['Indicadores demográficos'] == 'Tamaño medio del hogar']"
   ]
  },
  {
   "cell_type": "code",
   "execution_count": 35,
   "id": "c2df402a",
   "metadata": {},
   "outputs": [],
   "source": [
    "df_dataset = dd.merge(df_edad_media, df_poblacion, on='Secciones', how='inner', suffixes=('_edad_media', '_poblacion'))\n",
    "df_dataset = df_dataset[['Secciones', 'Total_edad_media', 'Total_poblacion']]\n",
    "df_dataset = dd.merge(df_dataset, df_porcentaje_unipersonales, on='Secciones', how='inner', suffixes=('_%_unipersonales', '_%_unipersonales'))\n",
    "df_dataset = df_dataset.rename(columns={'Total': 'Porcentaje_Hogares_unipersonales'})\n",
    "df_dataset = df_dataset.drop(columns=['Indicadores demográficos'])\n",
    "df_dataset = dd.merge(df_dataset, df_porcentaje_mayor_65, on='Secciones', how='inner')\n",
    "df_dataset = df_dataset.rename(columns={'Total': 'Porcentaje_mayor_65'})\n",
    "df_dataset = df_dataset.drop(columns=['Indicadores demográficos'])\n",
    "df_dataset = dd.merge(df_dataset, df_porcentaje_menor_18, on='Secciones', how='inner')\n",
    "df_dataset = df_dataset.rename(columns={'Total': 'Porcentaje_menor_18'})\n",
    "df_dataset = df_dataset.drop(columns=['Indicadores demográficos'])\n",
    "df_dataset = dd.merge(df_dataset, df_porcentaje_poblacion, on='Secciones', how='inner')\n",
    "df_dataset = df_dataset.rename(columns={'Total': 'Porcentaje_poblacion'})\n",
    "df_dataset = df_dataset.drop(columns=['Indicadores demográficos'])\n",
    "df_dataset = dd.merge(df_dataset, df_tamaño_medio, on='Secciones', how='inner')\n",
    "df_dataset = df_dataset.rename(columns={'Total': 'Tamaño_medio_hogar'})\n",
    "df_dataset = df_dataset.drop(columns=['Indicadores demográficos'])"
   ]
  },
  {
   "cell_type": "code",
   "execution_count": 36,
   "id": "f51fef45",
   "metadata": {},
   "outputs": [
    {
     "data": {
      "text/plain": [
       "['C:\\\\Users\\\\omar.alvarez\\\\Downloads\\\\data\\\\seccionado_2023\\\\Seccionado2023\\\\Seccionado2023\\\\España_Seccionado2023_ETRS89H30\\\\poblacion_procesado_2020_parts.csv\\\\0.part',\n",
       " 'C:\\\\Users\\\\omar.alvarez\\\\Downloads\\\\data\\\\seccionado_2023\\\\Seccionado2023\\\\Seccionado2023\\\\España_Seccionado2023_ETRS89H30\\\\poblacion_procesado_2020_parts.csv\\\\1.part',\n",
       " 'C:\\\\Users\\\\omar.alvarez\\\\Downloads\\\\data\\\\seccionado_2023\\\\Seccionado2023\\\\Seccionado2023\\\\España_Seccionado2023_ETRS89H30\\\\poblacion_procesado_2020_parts.csv\\\\2.part',\n",
       " 'C:\\\\Users\\\\omar.alvarez\\\\Downloads\\\\data\\\\seccionado_2023\\\\Seccionado2023\\\\Seccionado2023\\\\España_Seccionado2023_ETRS89H30\\\\poblacion_procesado_2020_parts.csv\\\\3.part']"
      ]
     },
     "execution_count": 36,
     "metadata": {},
     "output_type": "execute_result"
    }
   ],
   "source": [
    "df_dataset.to_csv('poblacion_procesado_2020_parts.csv', index=False)"
   ]
  },
  {
   "cell_type": "code",
   "execution_count": 37,
   "id": "c75eb252",
   "metadata": {},
   "outputs": [],
   "source": [
    "filenames = \"poblacion_procesado_2020_parts.csv/*.part\"\n",
    "dtype_dict = {\n",
    "    'Secciones': 'object',\n",
    "}\n",
    "ddf = dd.read_csv(filenames, dtype=dtype_dict, sep=',')"
   ]
  },
  {
   "cell_type": "code",
   "execution_count": 38,
   "id": "2183708e",
   "metadata": {},
   "outputs": [],
   "source": [
    "ddf.compute().to_csv('poblacion_procesado_2020.csv', index=False)"
   ]
  },
  {
   "cell_type": "markdown",
   "id": "5cc43e06",
   "metadata": {},
   "source": [
    "## Data fusion: population, income and sections"
   ]
  },
  {
   "cell_type": "code",
   "execution_count": 39,
   "id": "03955e9e",
   "metadata": {},
   "outputs": [],
   "source": [
    "import dask.dataframe as dd\n",
    "dtype_dict = {\n",
    "    'Secciones': 'object',\n",
    "    'Total': 'object'\n",
    "\n",
    "}\n",
    "\n",
    "df_renta = dd.read_csv('renta_procesado_2020.csv', dtype=dtype_dict, sep=',')"
   ]
  },
  {
   "cell_type": "code",
   "execution_count": 40,
   "id": "a8bd2d22",
   "metadata": {},
   "outputs": [],
   "source": [
    "df_renta = df_renta.rename(columns={\"Total\":\"Renta_media\"})\n",
    "\n",
    "dtype_dict = {\n",
    "    'Secciones': 'object',\n",
    "\n",
    "}"
   ]
  },
  {
   "cell_type": "code",
   "execution_count": 41,
   "id": "dd73f640",
   "metadata": {},
   "outputs": [],
   "source": [
    "df_poblacion = dd.read_csv('poblacion_procesado_2020.csv', dtype=dtype_dict, sep=',')"
   ]
  },
  {
   "cell_type": "code",
   "execution_count": 42,
   "id": "78cfd0f7",
   "metadata": {},
   "outputs": [],
   "source": [
    "df_renta_poblacion = df_renta.merge(df_poblacion, on='Secciones', how='inner').compute()"
   ]
  },
  {
   "cell_type": "markdown",
   "id": "d7dcce0b",
   "metadata": {},
   "source": [
    "### Joining with sections"
   ]
  },
  {
   "cell_type": "code",
   "execution_count": 67,
   "id": "644c9319",
   "metadata": {},
   "outputs": [],
   "source": [
    "import dask_geopandas as dg\n",
    "df_seccionado = dg.read_file('seccionado_procesado_EPSG_25830.geojson', npartitions=4)\n",
    "df_seccionado = df_seccionado.rename(columns={\"CUSEC\":\"Secciones\"})\n"
   ]
  },
  {
   "cell_type": "code",
   "execution_count": 68,
   "id": "5a5cd540",
   "metadata": {},
   "outputs": [],
   "source": [
    "import geopandas as gpd\n",
    "# df_renta_poblacion_seccion = df_renta_poblacion.merge(df_seccionado, on='Secciones', how='inner')\n",
    "df_renta_poblacion_seccion = gpd.GeoDataFrame(df_renta_poblacion).merge(df_seccionado.compute(), on='Secciones', how='inner')\n"
   ]
  },
  {
   "cell_type": "code",
   "execution_count": 69,
   "id": "26b33e08",
   "metadata": {},
   "outputs": [],
   "source": [
    "dd_renta_poblacion_seccion = dd.from_pandas(df_renta_poblacion_seccion, npartitions=4)"
   ]
  },
  {
   "cell_type": "code",
   "execution_count": 70,
   "id": "e05fedfa",
   "metadata": {},
   "outputs": [
    {
     "data": {
      "text/plain": [
       "['C:\\\\Users\\\\omar.alvarez\\\\Downloads\\\\data\\\\seccionado_2023\\\\Seccionado2023\\\\Seccionado2023\\\\España_Seccionado2023_ETRS89H30\\\\renta_poblacion_secciones_2020_parts.csv\\\\0.part',\n",
       " 'C:\\\\Users\\\\omar.alvarez\\\\Downloads\\\\data\\\\seccionado_2023\\\\Seccionado2023\\\\Seccionado2023\\\\España_Seccionado2023_ETRS89H30\\\\renta_poblacion_secciones_2020_parts.csv\\\\1.part',\n",
       " 'C:\\\\Users\\\\omar.alvarez\\\\Downloads\\\\data\\\\seccionado_2023\\\\Seccionado2023\\\\Seccionado2023\\\\España_Seccionado2023_ETRS89H30\\\\renta_poblacion_secciones_2020_parts.csv\\\\2.part',\n",
       " 'C:\\\\Users\\\\omar.alvarez\\\\Downloads\\\\data\\\\seccionado_2023\\\\Seccionado2023\\\\Seccionado2023\\\\España_Seccionado2023_ETRS89H30\\\\renta_poblacion_secciones_2020_parts.csv\\\\3.part']"
      ]
     },
     "execution_count": 70,
     "metadata": {},
     "output_type": "execute_result"
    }
   ],
   "source": [
    "dd_renta_poblacion_seccion.to_csv('renta_poblacion_secciones_2020_parts.csv', index=False)"
   ]
  },
  {
   "cell_type": "code",
   "execution_count": 74,
   "id": "410961a1",
   "metadata": {},
   "outputs": [],
   "source": [
    "filenames = \"renta_poblacion_secciones_2020_parts.csv/*.part\"\n",
    "dtype_dict = {\n",
    "    'Secciones': 'object',\n",
    "    'Renta_media': 'object',\n",
    "    'Total_edad' : 'object',\n",
    "    'area_m2': 'object'\n",
    "}\n",
    "ddf = dd.read_csv(filenames, dtype=dtype_dict, sep=',', thousands='.')"
   ]
  },
  {
   "cell_type": "code",
   "execution_count": 77,
   "id": "92ce80fb",
   "metadata": {},
   "outputs": [
    {
     "name": "stdout",
     "output_type": "stream",
     "text": [
      "computed_gdf\t dask_gpd\t dd\t dd_renta_poblacion_seccion\t ddf\t df\t df_dataset\t df_edad_media\t df_poblacion\t \n",
      "df_porcentaje_mayor_65\t df_porcentaje_menor_18\t df_porcentaje_poblacion\t df_porcentaje_unipersonales\t df_renta\t df_renta_poblacion\t df_renta_poblacion_seccion\t df_seccionado\t df_tamaño_medio\t \n",
      "dg\t dgdf\t dtype_dict\t filenames\t gpd\t \n"
     ]
    }
   ],
   "source": [
    "%who"
   ]
  },
  {
   "cell_type": "code",
   "execution_count": 87,
   "id": "c91dea8a",
   "metadata": {},
   "outputs": [
    {
     "ename": "NameError",
     "evalue": "name 'computed_gdf' is not defined",
     "output_type": "error",
     "traceback": [
      "\u001b[1;31m---------------------------------------------------------------------------\u001b[0m",
      "\u001b[1;31mNameError\u001b[0m                                 Traceback (most recent call last)",
      "Cell \u001b[1;32mIn[87], line 2\u001b[0m\n\u001b[0;32m      1\u001b[0m \u001b[38;5;28;01mimport\u001b[39;00m \u001b[38;5;21;01mgc\u001b[39;00m\n\u001b[1;32m----> 2\u001b[0m \u001b[38;5;28;01mdel\u001b[39;00m computed_gdf\n\u001b[0;32m      3\u001b[0m \u001b[38;5;28;01mdel\u001b[39;00m dask_gpd\n\u001b[0;32m      4\u001b[0m \u001b[38;5;28;01mdel\u001b[39;00m df_dataset\n",
      "\u001b[1;31mNameError\u001b[0m: name 'computed_gdf' is not defined"
     ]
    }
   ],
   "source": [
    "# To free RAM memory\n",
    "import gc\n",
    "del computed_gdf\n",
    "del dask_gpd\n",
    "del df_dataset\n",
    "del df_edad_media\n",
    "del df_poblacion\n",
    "del df_porcentaje_mayor_65\n",
    "del df_porcentaje_menor_18\n",
    "del df_porcentaje_poblacion\n",
    "del df_porcentaje_unipersonales\n",
    "del df_renta\n",
    "del df_renta_poblacion\n",
    "del df_renta_poblacion_seccion\n",
    "del df_seccionado\n",
    "del df_tamaño_medio\n",
    "gc.collect()"
   ]
  },
  {
   "cell_type": "code",
   "execution_count": 88,
   "id": "ff56a0df",
   "metadata": {},
   "outputs": [],
   "source": [
    "ddf.compute().to_csv('renta_poblacion_secciones_2020.csv', index=False)"
   ]
  },
  {
   "cell_type": "markdown",
   "id": "db20d075",
   "metadata": {},
   "source": [
    "## Data fusion: Solar cadaster"
   ]
  },
  {
   "cell_type": "code",
   "execution_count": 90,
   "id": "2a42039e",
   "metadata": {},
   "outputs": [
    {
     "name": "stdout",
     "output_type": "stream",
     "text": [
      "dd\t dd_renta_poblacion_seccion\t ddf\t df\t dg\t dgdf\t dtype_dict\t filenames\t gc\t \n",
      "gpd\t \n"
     ]
    }
   ],
   "source": [
    "%who"
   ]
  },
  {
   "cell_type": "code",
   "execution_count": 91,
   "id": "596ff207",
   "metadata": {},
   "outputs": [
    {
     "data": {
      "text/plain": [
       "779"
      ]
     },
     "execution_count": 91,
     "metadata": {},
     "output_type": "execute_result"
    }
   ],
   "source": [
    "del dd_renta_poblacion_seccion\n",
    "del ddf\n",
    "del df\n",
    "del dgdf\n",
    "gc.collect()"
   ]
  },
  {
   "cell_type": "code",
   "execution_count": 92,
   "id": "262a50da",
   "metadata": {},
   "outputs": [],
   "source": [
    "import pandas as pd\n",
    "df_secciones = pd.read_csv('renta_poblacion_secciones_2020.csv')"
   ]
  },
  {
   "cell_type": "code",
   "execution_count": 93,
   "id": "57cdbb68",
   "metadata": {},
   "outputs": [],
   "source": [
    "import geopandas as gpd\n",
    "from shapely import wkt\n",
    "\n",
    "df_secciones['geometry'] = df_secciones['geometry'].apply(wkt.loads)\n",
    "gdf_secciones = gpd.GeoDataFrame(df_secciones, geometry='geometry')\n",
    "gdf_secciones.crs = 'EPSG:25830'"
   ]
  },
  {
   "cell_type": "markdown",
   "id": "a6bdd67c",
   "metadata": {},
   "source": [
    "To load only data from **Crevillent cadaster**:"
   ]
  },
  {
   "cell_type": "code",
   "execution_count": 94,
   "id": "bbeb2243",
   "metadata": {},
   "outputs": [
    {
     "name": "stderr",
     "output_type": "stream",
     "text": [
      "C:\\Users\\omar.alvarez\\AppData\\Local\\Packages\\PythonSoftwareFoundation.Python.3.9_qbz5n2kfra8p0\\LocalCache\\local-packages\\Python39\\site-packages\\geopandas\\io\\file.py:383: UserWarning: Could not infer format, so each element will be parsed individually, falling back to `dateutil`. To ensure parsing is consistent and as-expected, please specify a format.\n",
      "  as_dt = pd.to_datetime(df[k], errors=\"ignore\")\n",
      "C:\\Users\\omar.alvarez\\AppData\\Local\\Packages\\PythonSoftwareFoundation.Python.3.9_qbz5n2kfra8p0\\LocalCache\\local-packages\\Python39\\site-packages\\geopandas\\io\\file.py:387: UserWarning: Could not infer format, so each element will be parsed individually, falling back to `dateutil`. To ensure parsing is consistent and as-expected, please specify a format.\n",
      "  as_dt = pd.to_datetime(df[k], errors=\"ignore\", utc=True)\n"
     ]
    }
   ],
   "source": [
    "gdf_edificios_adecuados = gpd.read_file('edificios_adecuados_EPSG_25830.geojson')\n",
    "gdf_edificios_adecuados = gdf_edificios_adecuados[['reference', 'AREA', 'MEAN','MWh_aprove', 'MWh_prod_e', 'geometry' ]]"
   ]
  },
  {
   "cell_type": "code",
   "execution_count": 95,
   "id": "d195d954",
   "metadata": {},
   "outputs": [],
   "source": [
    "gdf_edificios_adecuados['centroid'] = gdf_edificios_adecuados.geometry.centroid\n",
    "gdf_edificios_adecuados = gdf_edificios_adecuados.set_geometry('centroid')"
   ]
  },
  {
   "cell_type": "code",
   "execution_count": 99,
   "id": "8dc64c18",
   "metadata": {},
   "outputs": [],
   "source": [
    "\n",
    "gdf_edificios_secciones = gpd.sjoin(gdf_edificios_adecuados, gdf_secciones, how=\"inner\", predicate=\"within\")\n",
    "gdf_edificios_secciones = gdf_edificios_secciones.drop('index_right', axis=1)"
   ]
  },
  {
   "cell_type": "code",
   "execution_count": 100,
   "id": "6bc9f7ae",
   "metadata": {},
   "outputs": [],
   "source": [
    "secciones_no_crevillent = [300502002, 305903003, 390401001, 306507023]\n",
    "gdf_edificios_secciones = gdf_edificios_secciones[~gdf_edificios_secciones['Secciones'].isin(secciones_no_crevillent)]"
   ]
  },
  {
   "cell_type": "code",
   "execution_count": 98,
   "id": "00081357",
   "metadata": {},
   "outputs": [],
   "source": [
    "gdf_edificios_secciones.to_csv('edificios_secciones_crevillente.csv', index=False)"
   ]
  },
  {
   "cell_type": "code",
   "execution_count": null,
   "id": "7e3a4a73",
   "metadata": {},
   "outputs": [],
   "source": []
  }
 ],
 "metadata": {
  "kernelspec": {
   "display_name": "Python 3 (ipykernel)",
   "language": "python",
   "name": "python3"
  },
  "language_info": {
   "codemirror_mode": {
    "name": "ipython",
    "version": 3
   },
   "file_extension": ".py",
   "mimetype": "text/x-python",
   "name": "python",
   "nbconvert_exporter": "python",
   "pygments_lexer": "ipython3",
   "version": "3.9.13"
  }
 },
 "nbformat": 4,
 "nbformat_minor": 5
}
