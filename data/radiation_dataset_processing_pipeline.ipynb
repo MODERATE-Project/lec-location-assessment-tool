{
 "cells": [
  {
   "cell_type": "markdown",
   "id": "8a2959d2",
   "metadata": {},
   "source": [
    "# Data processing for census sections, incomes, population and buildings"
   ]
  },
  {
   "cell_type": "markdown",
   "id": "6d2d8ab1",
   "metadata": {},
   "source": [
    "In the below data processing pipeline, the following datasets are used and generated:\n",
    "1. **seccionado.geojson**: Data about census sections, downloaded from INE\n",
    "2. **seccionado_procesado_EPSG_25830.geojson**: Subset of the previous dataset, containing only three fields ('CUSEC', 'area_m2', 'geometry')\n",
    "3. **renta.csv**: Income dataset downloaded from INE\n",
    "4. **renta_procesado_2020.csv**: Income by census section\n",
    "5. **poblacion.csv**: Population dataset downloaded from INE\n",
    "6. **poblacion_procesado_2020.csv**: Population by section\n",
    "7. **renta_poblacion_secciones_2020.csv**: Income and Population for each section\n",
    "8. **edificios_adecuados_EPSG_25830.geojson**: Buildings from Crevillent with Solar radiation data\n",
    "9. **edificios_secciones_crevillente**: Sections, buildings and radiation data. This is the final dataset for querying in the backend.\n",
    "\n",
    "**Note**: For building a final dataset for other region, solar radiation data for that area is necessary.\n"
   ]
  },
  {
   "cell_type": "markdown",
   "id": "c29189b7",
   "metadata": {},
   "source": [
    "## Census sections\n",
    "Data from 2023. Downloaded from: https://www.ine.es/ss/Satellite?L=es_ES&c=Page&cid=1259952026632&p=1259952026632&pagename=ProductosYServicios%2FPYSLayout"
   ]
  },
  {
   "cell_type": "code",
   "execution_count": null,
   "id": "076c3082",
   "metadata": {},
   "outputs": [],
   "source": [
    "import dask_geopandas as dask_gpd\n",
    "dgdf = dask_gpd.read_file('seccionado.geojson', npartitions=4) #EPSG:25830 (m2)"
   ]
  },
  {
   "cell_type": "code",
   "execution_count": null,
   "id": "bb69c983",
   "metadata": {},
   "outputs": [],
   "source": [
    "dgdf['area_m2'] = dgdf.area\n",
    "dgdf = dgdf[['CUSEC','NMUN','area_m2', 'geometry']]"
   ]
  },
  {
   "cell_type": "code",
   "execution_count": null,
   "id": "b17bc4a6",
   "metadata": {},
   "outputs": [],
   "source": [
    "computed_gdf = dgdf.compute()"
   ]
  },
  {
   "cell_type": "code",
   "execution_count": null,
   "id": "defd7db4",
   "metadata": {},
   "outputs": [],
   "source": [
    "computed_gdf.to_file('seccionado_procesado_EPSG_25830.geojson', driver='GeoJSON')"
   ]
  },
  {
   "cell_type": "markdown",
   "id": "a6a273bb",
   "metadata": {},
   "source": [
    "## Income by census sections\n",
    "Data downloaded from: https://www.ine.es/dynt3/inebase/index.htm?padre=7132."
   ]
  },
  {
   "cell_type": "code",
   "execution_count": null,
   "id": "e1979cb1",
   "metadata": {},
   "outputs": [],
   "source": [
    "import dask.dataframe as dd\n",
    "dtype_dict = {\n",
    "    'Distritos': 'object',\n",
    "    'Secciones': 'object',\n",
    "    'Total': 'object'\n",
    "}"
   ]
  },
  {
   "cell_type": "code",
   "execution_count": null,
   "id": "bc6a7976",
   "metadata": {},
   "outputs": [],
   "source": [
    "df = dd.read_csv('renta.csv', dtype=dtype_dict, sep=';')"
   ]
  },
  {
   "cell_type": "code",
   "execution_count": null,
   "id": "b6d22923",
   "metadata": {},
   "outputs": [],
   "source": [
    "df = df[['Secciones', 'Indicadores de renta media', 'Periodo', 'Total']]"
   ]
  },
  {
   "cell_type": "code",
   "execution_count": null,
   "id": "fd4ba280",
   "metadata": {},
   "outputs": [],
   "source": [
    "df = df[df['Indicadores de renta media'] == 'Renta neta media por hogar']"
   ]
  },
  {
   "cell_type": "code",
   "execution_count": null,
   "id": "b6e0dcab",
   "metadata": {},
   "outputs": [],
   "source": [
    "df = df[df['Periodo'] == 2020]"
   ]
  },
  {
   "cell_type": "code",
   "execution_count": null,
   "id": "45d636d9",
   "metadata": {},
   "outputs": [],
   "source": [
    "df = df[['Secciones', 'Periodo', 'Total']]"
   ]
  },
  {
   "cell_type": "code",
   "execution_count": null,
   "id": "c01138c3",
   "metadata": {},
   "outputs": [],
   "source": [
    "df = df.dropna()"
   ]
  },
  {
   "cell_type": "code",
   "execution_count": null,
   "id": "60506135",
   "metadata": {},
   "outputs": [],
   "source": [
    "df = df[['Secciones', 'Total']] # Periodo = 2020"
   ]
  },
  {
   "cell_type": "code",
   "execution_count": null,
   "id": "5fe620e0",
   "metadata": {},
   "outputs": [],
   "source": [
    "df['Secciones'] = df['Secciones'].str.split().str[0]"
   ]
  },
  {
   "cell_type": "code",
   "execution_count": null,
   "id": "9832746a",
   "metadata": {},
   "outputs": [],
   "source": [
    "df.to_csv('renta_procesado_2020_parts.csv', index=False)"
   ]
  },
  {
   "cell_type": "code",
   "execution_count": null,
   "id": "d4fc3049",
   "metadata": {},
   "outputs": [],
   "source": [
    "filenames = \"renta_procesado_2020_parts.csv/*.part\"\n",
    "dtype_dict = {\n",
    "    'Secciones': 'object',\n",
    "    'Total': 'object'\n",
    "}\n",
    "ddf = dd.read_csv(filenames, dtype=dtype_dict, sep=',')"
   ]
  },
  {
   "cell_type": "code",
   "execution_count": null,
   "id": "b79c21f4",
   "metadata": {},
   "outputs": [],
   "source": [
    "ddf.compute().to_csv('renta_procesado_2020.csv', index=False)"
   ]
  },
  {
   "cell_type": "markdown",
   "id": "514eb206",
   "metadata": {},
   "source": [
    "## Population"
   ]
  },
  {
   "cell_type": "markdown",
   "id": "0a222609",
   "metadata": {},
   "source": [
    "Data downloaded from: https://www.ine.es/jaxiT3/Tabla.htm?t=30868&L=0"
   ]
  },
  {
   "cell_type": "code",
   "execution_count": null,
   "id": "aa525ef1",
   "metadata": {},
   "outputs": [],
   "source": [
    "import dask.dataframe as dd\n",
    "dtype_dict = {\n",
    "    'Secciones': 'object',\n",
    "    'Indicadores demográficos': 'object'\n",
    "\n",
    "}\n",
    "df = dd.read_csv('poblacion.csv', dtype=dtype_dict, sep=';')"
   ]
  },
  {
   "cell_type": "code",
   "execution_count": null,
   "id": "1e842a1f",
   "metadata": {},
   "outputs": [],
   "source": [
    "df = df[df['Periodo'] == 2020]"
   ]
  },
  {
   "cell_type": "code",
   "execution_count": null,
   "id": "d8cbea7f",
   "metadata": {},
   "outputs": [],
   "source": [
    "df = df[['Secciones', 'Indicadores demográficos', 'Total']]"
   ]
  },
  {
   "cell_type": "code",
   "execution_count": null,
   "id": "4ae173ab",
   "metadata": {},
   "outputs": [],
   "source": [
    "df['Secciones'] = df['Secciones'].str.split().str[0]"
   ]
  },
  {
   "cell_type": "code",
   "execution_count": null,
   "id": "5753ae84",
   "metadata": {},
   "outputs": [],
   "source": [
    "df['Indicadores demográficos'] = df['Indicadores demográficos'].astype('category')"
   ]
  },
  {
   "cell_type": "code",
   "execution_count": null,
   "id": "c758d98b",
   "metadata": {},
   "outputs": [],
   "source": [
    "df['Indicadores demográficos'] = df['Indicadores demográficos'].cat.as_known()"
   ]
  },
  {
   "cell_type": "code",
   "execution_count": null,
   "id": "bb2380bd",
   "metadata": {},
   "outputs": [],
   "source": [
    "df = df.dropna()"
   ]
  },
  {
   "cell_type": "code",
   "execution_count": null,
   "id": "e1774dd7",
   "metadata": {},
   "outputs": [],
   "source": [
    "df_edad_media = df[df['Indicadores demográficos'] == 'Edad media de la población']\n",
    "df_poblacion = df[df['Indicadores demográficos'] == 'Población']\n",
    "df_porcentaje_unipersonales = df[df['Indicadores demográficos'] == 'Porcentaje de hogares unipersonales']\n",
    "df_porcentaje_mayor_65 = df[df['Indicadores demográficos'] == 'Porcentaje de población de 65 y más años']\n",
    "df_porcentaje_menor_18 = df[df['Indicadores demográficos'] == 'Porcentaje de población menor de 18 años']\n",
    "df_porcentaje_poblacion = df[df['Indicadores demográficos'] == 'Porcentaje de población española']\n",
    "df_tamaño_medio = df[df['Indicadores demográficos'] == 'Tamaño medio del hogar']"
   ]
  },
  {
   "cell_type": "code",
   "execution_count": null,
   "id": "c2df402a",
   "metadata": {},
   "outputs": [],
   "source": [
    "df_dataset = dd.merge(df_edad_media, df_poblacion, on='Secciones', how='inner', suffixes=('_edad_media', '_poblacion'))\n",
    "df_dataset = df_dataset[['Secciones', 'Total_edad_media', 'Total_poblacion']]\n",
    "df_dataset = dd.merge(df_dataset, df_porcentaje_unipersonales, on='Secciones', how='inner', suffixes=('_%_unipersonales', '_%_unipersonales'))\n",
    "df_dataset = df_dataset.rename(columns={'Total': 'Porcentaje_Hogares_unipersonales'})\n",
    "df_dataset = df_dataset.drop(columns=['Indicadores demográficos'])\n",
    "df_dataset = dd.merge(df_dataset, df_porcentaje_mayor_65, on='Secciones', how='inner')\n",
    "df_dataset = df_dataset.rename(columns={'Total': 'Porcentaje_mayor_65'})\n",
    "df_dataset = df_dataset.drop(columns=['Indicadores demográficos'])\n",
    "df_dataset = dd.merge(df_dataset, df_porcentaje_menor_18, on='Secciones', how='inner')\n",
    "df_dataset = df_dataset.rename(columns={'Total': 'Porcentaje_menor_18'})\n",
    "df_dataset = df_dataset.drop(columns=['Indicadores demográficos'])\n",
    "df_dataset = dd.merge(df_dataset, df_porcentaje_poblacion, on='Secciones', how='inner')\n",
    "df_dataset = df_dataset.rename(columns={'Total': 'Porcentaje_poblacion'})\n",
    "df_dataset = df_dataset.drop(columns=['Indicadores demográficos'])\n",
    "df_dataset = dd.merge(df_dataset, df_tamaño_medio, on='Secciones', how='inner')\n",
    "df_dataset = df_dataset.rename(columns={'Total': 'Tamaño_medio_hogar'})\n",
    "df_dataset = df_dataset.drop(columns=['Indicadores demográficos'])"
   ]
  },
  {
   "cell_type": "code",
   "execution_count": null,
   "id": "f51fef45",
   "metadata": {},
   "outputs": [],
   "source": [
    "df_dataset.to_csv('poblacion_procesado_2020_parts.csv', index=False)"
   ]
  },
  {
   "cell_type": "code",
   "execution_count": null,
   "id": "c75eb252",
   "metadata": {},
   "outputs": [],
   "source": [
    "filenames = \"poblacion_procesado_2020_parts.csv/*.part\"\n",
    "dtype_dict = {\n",
    "    'Secciones': 'object',\n",
    "}\n",
    "ddf = dd.read_csv(filenames, dtype=dtype_dict, sep=',')"
   ]
  },
  {
   "cell_type": "code",
   "execution_count": null,
   "id": "2183708e",
   "metadata": {},
   "outputs": [],
   "source": [
    "ddf.compute().to_csv('poblacion_procesado_2020.csv', index=False)"
   ]
  },
  {
   "cell_type": "markdown",
   "id": "5cc43e06",
   "metadata": {},
   "source": [
    "## Data fusion: population, income and sections"
   ]
  },
  {
   "cell_type": "code",
   "execution_count": null,
   "id": "03955e9e",
   "metadata": {},
   "outputs": [],
   "source": [
    "import dask.dataframe as dd\n",
    "dtype_dict = {\n",
    "    'Secciones': 'object',\n",
    "    'Total': 'object'\n",
    "\n",
    "}\n",
    "\n",
    "df_renta = dd.read_csv('renta_procesado_2020.csv', dtype=dtype_dict, sep=',')"
   ]
  },
  {
   "cell_type": "code",
   "execution_count": null,
   "id": "a8bd2d22",
   "metadata": {},
   "outputs": [],
   "source": [
    "df_renta = df_renta.rename(columns={\"Total\":\"Renta_media\"})\n",
    "\n",
    "dtype_dict = {\n",
    "    'Secciones': 'object',\n",
    "\n",
    "}"
   ]
  },
  {
   "cell_type": "code",
   "execution_count": null,
   "id": "dd73f640",
   "metadata": {},
   "outputs": [],
   "source": [
    "df_poblacion = dd.read_csv('poblacion_procesado_2020.csv', dtype=dtype_dict, sep=',')"
   ]
  },
  {
   "cell_type": "code",
   "execution_count": null,
   "id": "78cfd0f7",
   "metadata": {},
   "outputs": [],
   "source": [
    "df_renta_poblacion = df_renta.merge(df_poblacion, on='Secciones', how='inner').compute()"
   ]
  },
  {
   "cell_type": "markdown",
   "id": "d7dcce0b",
   "metadata": {},
   "source": [
    "### Joining with sections"
   ]
  },
  {
   "cell_type": "code",
   "execution_count": null,
   "id": "644c9319",
   "metadata": {},
   "outputs": [],
   "source": [
    "import dask_geopandas as dg\n",
    "df_seccionado = dg.read_file('seccionado_procesado_EPSG_25830.geojson', npartitions=4)\n",
    "df_seccionado = df_seccionado.rename(columns={\"CUSEC\":\"Secciones\", \"NMUN\":\"Municipios\"})\n"
   ]
  },
  {
   "cell_type": "code",
   "execution_count": null,
   "id": "5a5cd540",
   "metadata": {},
   "outputs": [],
   "source": [
    "import geopandas as gpd\n",
    "# df_renta_poblacion_seccion = df_renta_poblacion.merge(df_seccionado, on='Secciones', how='inner')\n",
    "df_renta_poblacion_seccion = gpd.GeoDataFrame(df_renta_poblacion).merge(df_seccionado.compute(), on='Secciones', how='inner')\n"
   ]
  },
  {
   "cell_type": "code",
   "execution_count": null,
   "id": "26b33e08",
   "metadata": {},
   "outputs": [],
   "source": [
    "dd_renta_poblacion_seccion = dd.from_pandas(df_renta_poblacion_seccion, npartitions=4)"
   ]
  },
  {
   "cell_type": "code",
   "execution_count": null,
   "id": "e05fedfa",
   "metadata": {},
   "outputs": [],
   "source": [
    "dd_renta_poblacion_seccion.to_csv('renta_poblacion_secciones_2020_parts.csv', index=False)"
   ]
  },
  {
   "cell_type": "code",
   "execution_count": null,
   "id": "410961a1",
   "metadata": {},
   "outputs": [],
   "source": [
    "filenames = \"renta_poblacion_secciones_2020_parts.csv/*.part\"\n",
    "dtype_dict = {\n",
    "    'Secciones': 'object',\n",
    "    'Renta_media': 'object',\n",
    "    'Total_edad' : 'object',\n",
    "    'area_m2': 'object'\n",
    "}\n",
    "ddf = dd.read_csv(filenames, dtype=dtype_dict, sep=',', thousands='.')"
   ]
  },
  {
   "cell_type": "code",
   "execution_count": null,
   "id": "e2ce60ab",
   "metadata": {},
   "outputs": [],
   "source": [
    "%who"
   ]
  },
  {
   "cell_type": "code",
   "execution_count": null,
   "id": "d6e80f5a",
   "metadata": {},
   "outputs": [],
   "source": [
    "# To free RAM memory\n",
    "import gc\n",
    "del computed_gdf\n",
    "del dask_gpd\n",
    "del df_dataset\n",
    "del df_edad_media\n",
    "del df_poblacion\n",
    "del df_porcentaje_mayor_65\n",
    "del df_porcentaje_menor_18\n",
    "del df_porcentaje_poblacion\n",
    "del df_porcentaje_unipersonales\n",
    "del df_renta\n",
    "del df_renta_poblacion\n",
    "del df_renta_poblacion_seccion\n",
    "del df_seccionado\n",
    "del df_tamaño_medio\n",
    "gc.collect()"
   ]
  },
  {
   "cell_type": "code",
   "execution_count": null,
   "id": "c6f915a6",
   "metadata": {},
   "outputs": [],
   "source": [
    "ddf.compute().to_csv('renta_poblacion_secciones_2020.csv', index=False)"
   ]
  },
  {
   "cell_type": "markdown",
   "id": "d9e9ef4d",
   "metadata": {},
   "source": [
    "## Data fusion: Solar cadaster"
   ]
  },
  {
   "cell_type": "code",
   "execution_count": null,
   "id": "4d5a64bc",
   "metadata": {},
   "outputs": [],
   "source": [
    "%who"
   ]
  },
  {
   "cell_type": "code",
   "execution_count": null,
   "id": "9161e4ef",
   "metadata": {},
   "outputs": [],
   "source": [
    "del dd_renta_poblacion_seccion\n",
    "del ddf\n",
    "del df\n",
    "del dgdf\n",
    "gc.collect()"
   ]
  },
  {
   "cell_type": "code",
   "execution_count": null,
   "id": "5c9b8547",
   "metadata": {},
   "outputs": [],
   "source": [
    "import pandas as pd\n",
    "df_secciones = pd.read_csv('renta_poblacion_secciones_2020.csv')"
   ]
  },
  {
   "cell_type": "code",
   "execution_count": null,
   "id": "d4557c50",
   "metadata": {},
   "outputs": [],
   "source": [
    "import geopandas as gpd\n",
    "from shapely import wkt\n",
    "\n",
    "df_secciones['geometry'] = df_secciones['geometry'].apply(wkt.loads)\n",
    "gdf_secciones = gpd.GeoDataFrame(df_secciones, geometry='geometry')\n",
    "gdf_secciones.crs = 'EPSG:25830'"
   ]
  },
  {
   "cell_type": "markdown",
   "id": "7016a139",
   "metadata": {},
   "source": [
    "To load only data from **Crevillent cadaster**:"
   ]
  },
  {
   "cell_type": "code",
   "execution_count": null,
   "id": "96345411",
   "metadata": {},
   "outputs": [],
   "source": [
    "gdf_edificios_adecuados = gpd.read_file('edificios_adecuados_EPSG_25830.geojson')\n",
    "gdf_edificios_adecuados = gdf_edificios_adecuados[['reference', 'informatio', 'currentUse', 'AREA', 'MEAN','MWh_aprove', 'MWh_prod_e', 'geometry' ]]"
   ]
  },
  {
   "cell_type": "code",
   "execution_count": null,
   "id": "5b936f86",
   "metadata": {},
   "outputs": [],
   "source": [
    "gdf_edificios_adecuados['centroid'] = gdf_edificios_adecuados.geometry.centroid\n",
    "gdf_edificios_adecuados = gdf_edificios_adecuados.set_geometry('centroid')"
   ]
  },
  {
   "cell_type": "code",
   "execution_count": null,
   "id": "26286778",
   "metadata": {},
   "outputs": [],
   "source": [
    "gdf_edificios_secciones = gpd.sjoin(gdf_edificios_adecuados, gdf_secciones, how=\"inner\", predicate=\"within\")\n",
    "gdf_edificios_secciones = gdf_edificios_secciones.drop('index_right', axis=1)"
   ]
  },
  {
   "cell_type": "code",
   "execution_count": null,
   "id": "a372e23e",
   "metadata": {},
   "outputs": [],
   "source": [
    "secciones_no_crevillent = [300502002, 305903003, 390401001, 306507023]\n",
    "gdf_edificios_secciones = gdf_edificios_secciones[~gdf_edificios_secciones['Secciones'].isin(secciones_no_crevillent)]"
   ]
  },
  {
   "cell_type": "code",
   "execution_count": null,
   "id": "1632d6eb",
   "metadata": {},
   "outputs": [],
   "source": [
    "gdf_edificios_secciones['currentUse'] = gdf_edificios_secciones['currentUse'].str.split('_').str.get(-1)"
   ]
  },
  {
   "cell_type": "code",
   "execution_count": null,
   "id": "a5ef743b",
   "metadata": {},
   "outputs": [],
   "source": [
    "# Procesar columnas string a numérirco\n",
    "gdf_edificios_secciones['Total_edad_media'] = gdf_edificios_secciones['Total_edad_media'].str.replace(',', '.').astype(float)\n",
    "gdf_edificios_secciones['Porcentaje_Hogares_unipersonales'] = gdf_edificios_secciones['Porcentaje_Hogares_unipersonales'].str.replace(',', '.').astype(float)\n",
    "gdf_edificios_secciones['Porcentaje_mayor_65'] = gdf_edificios_secciones['Porcentaje_mayor_65'].str.replace(',', '.').astype(float)\n",
    "gdf_edificios_secciones['Porcentaje_menor_18'] = gdf_edificios_secciones['Porcentaje_menor_18'].str.replace(',', '.').astype(float)\n",
    "gdf_edificios_secciones['Porcentaje_poblacion'] = gdf_edificios_secciones['Porcentaje_poblacion'].str.replace(',', '.').astype(float)\n",
    "gdf_edificios_secciones['Tamaño_medio_hogar'] = gdf_edificios_secciones['Tamaño_medio_hogar'].str.replace(',', '.').astype(float)"
   ]
  },
  {
   "cell_type": "code",
   "execution_count": null,
   "id": "0197f3c9",
   "metadata": {},
   "outputs": [],
   "source": [
    "gdf_edificios_secciones.to_csv('edificios_secciones_crevillente.csv', index=False)"
   ]
  },
  {
   "cell_type": "code",
   "execution_count": null,
   "id": "6fb387e3",
   "metadata": {
    "scrolled": true
   },
   "outputs": [],
   "source": [
    "gdf_edificios_secciones"
   ]
  },
  {
   "cell_type": "markdown",
   "id": "a2e7e72b",
   "metadata": {},
   "source": [
    "## Convert coordinates from 'EPSG:25830' to 'EPSG:4326', with two new attributes: 'latitude' and 'longitude'"
   ]
  },
  {
   "cell_type": "code",
   "execution_count": null,
   "id": "80e6c3bb",
   "metadata": {},
   "outputs": [],
   "source": [
    "import pandas as pd\n",
    "import geopandas as gpd\n",
    "from shapely import wkt\n",
    "from shapely.geometry import Point\n",
    "from shapely.wkt import loads"
   ]
  },
  {
   "cell_type": "code",
   "execution_count": null,
   "id": "0166dff2",
   "metadata": {},
   "outputs": [],
   "source": [
    "buildings_sections_df = pd.read_csv('edificios_secciones_crevillente.csv')\n",
    "buildings_sections_df.head()"
   ]
  },
  {
   "cell_type": "code",
   "execution_count": null,
   "id": "6c6c7fd0",
   "metadata": {
    "scrolled": true
   },
   "outputs": [],
   "source": [
    "buildings_sections_df['geometry'] = buildings_sections_df['geometry'].apply(wkt.loads)\n",
    "buildings_sections_gdf = gpd.GeoDataFrame(buildings_sections_df, geometry='geometry', crs=\"EPSG:25830\")"
   ]
  },
  {
   "cell_type": "code",
   "execution_count": null,
   "id": "6098e58e",
   "metadata": {},
   "outputs": [],
   "source": [
    "from shapely.wkt import loads\n",
    "\n",
    "# Convertir la columna 'centroid' en geometrías usando 'loads' de Shapely\n",
    "buildings_sections_gdf['centroid'] = buildings_sections_gdf['centroid'].apply(lambda x: loads(str(x)))\n",
    "\n",
    "# Ahora, convierte la columna 'centroid' en una GeoSeries\n",
    "centroid_geo = gpd.GeoSeries(buildings_sections_gdf['centroid'], crs=\"EPSG:25830\")\n",
    "\n",
    "# Cambia la proyección de la GeoSeries\n",
    "centroid_geo_crs = centroid_geo.to_crs(epsg=4326)\n",
    "\n",
    "# Reemplaza la columna original con la transformada\n",
    "buildings_sections_gdf['centroid'] = centroid_geo_crs\n"
   ]
  },
  {
   "cell_type": "code",
   "execution_count": null,
   "id": "05e46565",
   "metadata": {},
   "outputs": [],
   "source": [
    "buildings_sections_gdf['centroid'] = buildings_sections_gdf['centroid'].to_crs(epsg=4326)"
   ]
  },
  {
   "cell_type": "code",
   "execution_count": null,
   "id": "606fb543",
   "metadata": {},
   "outputs": [],
   "source": [
    "buildings_sections_gdf['longitude'] = buildings_sections_gdf['centroid'].x\n",
    "buildings_sections_gdf['latitude'] = buildings_sections_gdf['centroid'].y"
   ]
  },
  {
   "cell_type": "code",
   "execution_count": 17,
   "id": "86cad310",
   "metadata": {},
   "outputs": [
    {
     "data": {
      "text/html": [
       "<div>\n",
       "<style scoped>\n",
       "    .dataframe tbody tr th:only-of-type {\n",
       "        vertical-align: middle;\n",
       "    }\n",
       "\n",
       "    .dataframe tbody tr th {\n",
       "        vertical-align: top;\n",
       "    }\n",
       "\n",
       "    .dataframe thead th {\n",
       "        text-align: right;\n",
       "    }\n",
       "</style>\n",
       "<table border=\"1\" class=\"dataframe\">\n",
       "  <thead>\n",
       "    <tr style=\"text-align: right;\">\n",
       "      <th></th>\n",
       "      <th>reference</th>\n",
       "      <th>informatio</th>\n",
       "      <th>currentUse</th>\n",
       "      <th>AREA</th>\n",
       "      <th>MEAN</th>\n",
       "      <th>MWh_aprove</th>\n",
       "      <th>MWh_prod_e</th>\n",
       "      <th>geometry</th>\n",
       "      <th>centroid</th>\n",
       "      <th>Secciones</th>\n",
       "      <th>...</th>\n",
       "      <th>Total_poblacion</th>\n",
       "      <th>Porcentaje_Hogares_unipersonales</th>\n",
       "      <th>Porcentaje_mayor_65</th>\n",
       "      <th>Porcentaje_menor_18</th>\n",
       "      <th>Porcentaje_poblacion</th>\n",
       "      <th>Tamaño_medio_hogar</th>\n",
       "      <th>Municipios</th>\n",
       "      <th>area_m2</th>\n",
       "      <th>longitude</th>\n",
       "      <th>latitude</th>\n",
       "    </tr>\n",
       "  </thead>\n",
       "  <tbody>\n",
       "    <tr>\n",
       "      <th>0</th>\n",
       "      <td>000100100XH92G</td>\n",
       "      <td>https://www1.sedecatastro.gob.es/CYCBienInmueb...</td>\n",
       "      <td>residential</td>\n",
       "      <td>286.25</td>\n",
       "      <td>1487.646565</td>\n",
       "      <td>425.838829</td>\n",
       "      <td>76.650989</td>\n",
       "      <td>MULTIPOLYGON (((690850.720 4229633.520, 690849...</td>\n",
       "      <td>POINT (-0.82064 38.19439)</td>\n",
       "      <td>305905002</td>\n",
       "      <td>...</td>\n",
       "      <td>8700</td>\n",
       "      <td>25.9</td>\n",
       "      <td>22.6</td>\n",
       "      <td>16.0</td>\n",
       "      <td>68.9</td>\n",
       "      <td>2.74</td>\n",
       "      <td>Crevillent</td>\n",
       "      <td>2.383811e+07</td>\n",
       "      <td>-0.820638</td>\n",
       "      <td>38.194394</td>\n",
       "    </tr>\n",
       "    <tr>\n",
       "      <th>1</th>\n",
       "      <td>000100200XH92G</td>\n",
       "      <td>https://www1.sedecatastro.gob.es/CYCBienInmueb...</td>\n",
       "      <td>residential</td>\n",
       "      <td>318.75</td>\n",
       "      <td>1377.799223</td>\n",
       "      <td>439.173502</td>\n",
       "      <td>79.051230</td>\n",
       "      <td>MULTIPOLYGON (((690450.583 4229439.105, 690451...</td>\n",
       "      <td>POINT (-0.82509 38.19286)</td>\n",
       "      <td>305905002</td>\n",
       "      <td>...</td>\n",
       "      <td>8700</td>\n",
       "      <td>25.9</td>\n",
       "      <td>22.6</td>\n",
       "      <td>16.0</td>\n",
       "      <td>68.9</td>\n",
       "      <td>2.74</td>\n",
       "      <td>Crevillent</td>\n",
       "      <td>2.383811e+07</td>\n",
       "      <td>-0.825093</td>\n",
       "      <td>38.192859</td>\n",
       "    </tr>\n",
       "    <tr>\n",
       "      <th>2</th>\n",
       "      <td>000100600XH92G</td>\n",
       "      <td>https://www1.sedecatastro.gob.es/CYCBienInmueb...</td>\n",
       "      <td>residential</td>\n",
       "      <td>429.75</td>\n",
       "      <td>1466.006952</td>\n",
       "      <td>630.016488</td>\n",
       "      <td>113.402968</td>\n",
       "      <td>MULTIPOLYGON (((690403.571 4229635.267, 690407...</td>\n",
       "      <td>POINT (-0.82580 38.19448)</td>\n",
       "      <td>305905002</td>\n",
       "      <td>...</td>\n",
       "      <td>8700</td>\n",
       "      <td>25.9</td>\n",
       "      <td>22.6</td>\n",
       "      <td>16.0</td>\n",
       "      <td>68.9</td>\n",
       "      <td>2.74</td>\n",
       "      <td>Crevillent</td>\n",
       "      <td>2.383811e+07</td>\n",
       "      <td>-0.825796</td>\n",
       "      <td>38.194476</td>\n",
       "    </tr>\n",
       "    <tr>\n",
       "      <th>3</th>\n",
       "      <td>000200100XH92E</td>\n",
       "      <td>https://www1.sedecatastro.gob.es/CYCBienInmueb...</td>\n",
       "      <td>residential</td>\n",
       "      <td>45.00</td>\n",
       "      <td>1456.424836</td>\n",
       "      <td>65.539118</td>\n",
       "      <td>11.797041</td>\n",
       "      <td>MULTIPOLYGON (((691877.345 4226831.294, 691869...</td>\n",
       "      <td>POINT (-0.80969 38.16901)</td>\n",
       "      <td>305905002</td>\n",
       "      <td>...</td>\n",
       "      <td>8700</td>\n",
       "      <td>25.9</td>\n",
       "      <td>22.6</td>\n",
       "      <td>16.0</td>\n",
       "      <td>68.9</td>\n",
       "      <td>2.74</td>\n",
       "      <td>Crevillent</td>\n",
       "      <td>2.383811e+07</td>\n",
       "      <td>-0.809692</td>\n",
       "      <td>38.169006</td>\n",
       "    </tr>\n",
       "    <tr>\n",
       "      <th>4</th>\n",
       "      <td>000200200XH92E</td>\n",
       "      <td>https://www1.sedecatastro.gob.es/CYCBienInmueb...</td>\n",
       "      <td>residential</td>\n",
       "      <td>113.25</td>\n",
       "      <td>1436.972393</td>\n",
       "      <td>162.737124</td>\n",
       "      <td>29.292682</td>\n",
       "      <td>MULTIPOLYGON (((691878.565 4226850.104, 691880...</td>\n",
       "      <td>POINT (-0.80963 38.16908)</td>\n",
       "      <td>305905002</td>\n",
       "      <td>...</td>\n",
       "      <td>8700</td>\n",
       "      <td>25.9</td>\n",
       "      <td>22.6</td>\n",
       "      <td>16.0</td>\n",
       "      <td>68.9</td>\n",
       "      <td>2.74</td>\n",
       "      <td>Crevillent</td>\n",
       "      <td>2.383811e+07</td>\n",
       "      <td>-0.809627</td>\n",
       "      <td>38.169083</td>\n",
       "    </tr>\n",
       "  </tbody>\n",
       "</table>\n",
       "<p>5 rows × 22 columns</p>\n",
       "</div>"
      ],
      "text/plain": [
       "        reference                                         informatio  \\\n",
       "0  000100100XH92G  https://www1.sedecatastro.gob.es/CYCBienInmueb...   \n",
       "1  000100200XH92G  https://www1.sedecatastro.gob.es/CYCBienInmueb...   \n",
       "2  000100600XH92G  https://www1.sedecatastro.gob.es/CYCBienInmueb...   \n",
       "3  000200100XH92E  https://www1.sedecatastro.gob.es/CYCBienInmueb...   \n",
       "4  000200200XH92E  https://www1.sedecatastro.gob.es/CYCBienInmueb...   \n",
       "\n",
       "    currentUse    AREA         MEAN  MWh_aprove  MWh_prod_e  \\\n",
       "0  residential  286.25  1487.646565  425.838829   76.650989   \n",
       "1  residential  318.75  1377.799223  439.173502   79.051230   \n",
       "2  residential  429.75  1466.006952  630.016488  113.402968   \n",
       "3  residential   45.00  1456.424836   65.539118   11.797041   \n",
       "4  residential  113.25  1436.972393  162.737124   29.292682   \n",
       "\n",
       "                                            geometry  \\\n",
       "0  MULTIPOLYGON (((690850.720 4229633.520, 690849...   \n",
       "1  MULTIPOLYGON (((690450.583 4229439.105, 690451...   \n",
       "2  MULTIPOLYGON (((690403.571 4229635.267, 690407...   \n",
       "3  MULTIPOLYGON (((691877.345 4226831.294, 691869...   \n",
       "4  MULTIPOLYGON (((691878.565 4226850.104, 691880...   \n",
       "\n",
       "                    centroid  Secciones  ...  Total_poblacion  \\\n",
       "0  POINT (-0.82064 38.19439)  305905002  ...             8700   \n",
       "1  POINT (-0.82509 38.19286)  305905002  ...             8700   \n",
       "2  POINT (-0.82580 38.19448)  305905002  ...             8700   \n",
       "3  POINT (-0.80969 38.16901)  305905002  ...             8700   \n",
       "4  POINT (-0.80963 38.16908)  305905002  ...             8700   \n",
       "\n",
       "   Porcentaje_Hogares_unipersonales  Porcentaje_mayor_65  Porcentaje_menor_18  \\\n",
       "0                              25.9                 22.6                 16.0   \n",
       "1                              25.9                 22.6                 16.0   \n",
       "2                              25.9                 22.6                 16.0   \n",
       "3                              25.9                 22.6                 16.0   \n",
       "4                              25.9                 22.6                 16.0   \n",
       "\n",
       "   Porcentaje_poblacion  Tamaño_medio_hogar  Municipios       area_m2  \\\n",
       "0                  68.9                2.74  Crevillent  2.383811e+07   \n",
       "1                  68.9                2.74  Crevillent  2.383811e+07   \n",
       "2                  68.9                2.74  Crevillent  2.383811e+07   \n",
       "3                  68.9                2.74  Crevillent  2.383811e+07   \n",
       "4                  68.9                2.74  Crevillent  2.383811e+07   \n",
       "\n",
       "  longitude   latitude  \n",
       "0 -0.820638  38.194394  \n",
       "1 -0.825093  38.192859  \n",
       "2 -0.825796  38.194476  \n",
       "3 -0.809692  38.169006  \n",
       "4 -0.809627  38.169083  \n",
       "\n",
       "[5 rows x 22 columns]"
      ]
     },
     "execution_count": 17,
     "metadata": {},
     "output_type": "execute_result"
    }
   ],
   "source": [
    "buildings_sections_gdf.head()"
   ]
  },
  {
   "cell_type": "code",
   "execution_count": 19,
   "id": "39d9207a",
   "metadata": {},
   "outputs": [],
   "source": [
    "buildings_coords_gdf = buildings_sections_gdf.drop(columns=['centroid']).copy()"
   ]
  },
  {
   "cell_type": "code",
   "execution_count": 20,
   "id": "20ccbcce",
   "metadata": {},
   "outputs": [],
   "source": [
    "buildings_coords_gdf.to_csv('buildings_sections.csv', index=False)"
   ]
  },
  {
   "cell_type": "code",
   "execution_count": null,
   "id": "add2c2d9",
   "metadata": {},
   "outputs": [],
   "source": []
  },
  {
   "cell_type": "code",
   "execution_count": null,
   "id": "f267a5ff",
   "metadata": {},
   "outputs": [],
   "source": []
  },
  {
   "cell_type": "code",
   "execution_count": null,
   "id": "c911ab4c",
   "metadata": {},
   "outputs": [],
   "source": []
  },
  {
   "cell_type": "code",
   "execution_count": null,
   "id": "33594280",
   "metadata": {},
   "outputs": [],
   "source": []
  },
  {
   "cell_type": "code",
   "execution_count": null,
   "id": "4858fda5",
   "metadata": {},
   "outputs": [],
   "source": []
  },
  {
   "cell_type": "code",
   "execution_count": null,
   "id": "ff4e8dfa",
   "metadata": {},
   "outputs": [],
   "source": []
  },
  {
   "cell_type": "code",
   "execution_count": null,
   "id": "fc4eae11",
   "metadata": {},
   "outputs": [],
   "source": []
  },
  {
   "cell_type": "code",
   "execution_count": null,
   "id": "7de8018e",
   "metadata": {},
   "outputs": [],
   "source": []
  }
 ],
 "metadata": {
  "kernelspec": {
   "display_name": "Python 3 (ipykernel)",
   "language": "python",
   "name": "python3"
  },
  "language_info": {
   "codemirror_mode": {
    "name": "ipython",
    "version": 3
   },
   "file_extension": ".py",
   "mimetype": "text/x-python",
   "name": "python",
   "nbconvert_exporter": "python",
   "pygments_lexer": "ipython3",
   "version": "3.9.13"
  }
 },
 "nbformat": 4,
 "nbformat_minor": 5
}
